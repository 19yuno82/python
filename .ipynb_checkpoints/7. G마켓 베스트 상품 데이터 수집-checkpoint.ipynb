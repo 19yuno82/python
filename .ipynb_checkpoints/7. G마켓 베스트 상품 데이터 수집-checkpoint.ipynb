{
 "cells": [
  {
   "cell_type": "markdown",
   "id": "75c93c8d",
   "metadata": {},
   "source": [
    "# 카테고리별 상품 데이터 수집\n",
    "1. 상품이름, 가격 수집\n",
    "2. 수집된 정보 엑셀파일로 저장하기"
   ]
  },
  {
   "cell_type": "code",
   "execution_count": 34,
   "id": "d7636a87",
   "metadata": {},
   "outputs": [],
   "source": [
    "from selenium import webdriver as wb\n",
    "#html 요소에 접근하기 위한 방법을 제공하는 라이브러리\n",
    "from selenium.webdriver.common.by import By\n",
    "#키보드 값을 제공하는 라이브러리\n",
    "from selenium.webdriver.common.keys import Keys\n",
    "#실행 시간을 딜레이주는 라이브러리\n",
    "import time\n",
    "#특정 조건이 충족될 때까지 기다리는데 사용되는 모듈\n",
    "from selenium.webdriver.support.ui import WebDriverWait as wait\n",
    "#webdriverWait이 기다리는 조건을 정의하는데 사용되는 모듈\n",
    "from selenium.webdriver.support import expected_conditions as EC"
   ]
  },
  {
   "cell_type": "code",
   "execution_count": null,
   "id": "b00ca1e0",
   "metadata": {},
   "outputs": [],
   "source": []
  },
  {
   "cell_type": "code",
   "execution_count": 3,
   "id": "849b021f",
   "metadata": {},
   "outputs": [],
   "source": [
    "gmarket_url = 'https://www.gmarket.co.kr/n/best'"
   ]
  },
  {
   "cell_type": "code",
   "execution_count": 4,
   "id": "51894519",
   "metadata": {},
   "outputs": [],
   "source": [
    "driver = wb.Chrome()\n",
    "driver.get(gmarket_url)"
   ]
  },
  {
   "cell_type": "code",
   "execution_count": 40,
   "id": "a91b5071",
   "metadata": {},
   "outputs": [],
   "source": [
    "drWait = wait(driver, 10)\n",
    "#10초 동안 웹 드라이버 대기"
   ]
  },
  {
   "cell_type": "code",
   "execution_count": 41,
   "id": "f46aef07",
   "metadata": {},
   "outputs": [
    {
     "ename": "InvalidSessionIdException",
     "evalue": "Message: invalid session id\nStacktrace:\n\tGetHandleVerifier [0x00007FF600428EF2+54786]\n\t(No symbol) [0x00007FF600395612]\n\t(No symbol) [0x00007FF60024A4FD]\n\t(No symbol) [0x00007FF60028038E]\n\t(No symbol) [0x00007FF6002ABD62]\n\t(No symbol) [0x00007FF6002A7AD0]\n\t(No symbol) [0x00007FF6002A73D6]\n\t(No symbol) [0x00007FF600220CD0]\n\tGetHandleVerifier [0x00007FF600777F52+3524194]\n\tGetHandleVerifier [0x00007FF6007CD800+3874576]\n\tGetHandleVerifier [0x00007FF6007C5D7F+3843215]\n\tGetHandleVerifier [0x00007FF6004C5086+694166]\n\t(No symbol) [0x00007FF6003A0A88]\n\t(No symbol) [0x00007FF60021FAFE]\n\tGetHandleVerifier [0x00007FF60080F1E8+4143352]\n\tBaseThreadInitThunk [0x00007FFF5BBD7344+20]\n\tRtlUserThreadStart [0x00007FFF5CFA26B1+33]\n",
     "output_type": "error",
     "traceback": [
      "\u001b[1;31m---------------------------------------------------------------------------\u001b[0m",
      "\u001b[1;31mInvalidSessionIdException\u001b[0m                 Traceback (most recent call last)",
      "Cell \u001b[1;32mIn[41], line 4\u001b[0m\n\u001b[0;32m      2\u001b[0m item_price_list \u001b[38;5;241m=\u001b[39m[]\n\u001b[0;32m      3\u001b[0m \u001b[38;5;28;01mfor\u001b[39;00m i \u001b[38;5;129;01min\u001b[39;00m \u001b[38;5;28mrange\u001b[39m(\u001b[38;5;241m1\u001b[39m,\u001b[38;5;241m13\u001b[39m) :\n\u001b[1;32m----> 4\u001b[0m     item\u001b[38;5;241m=\u001b[39mdrWait\u001b[38;5;241m.\u001b[39muntil(EC\u001b[38;5;241m.\u001b[39mpresence_of_element_located((By\u001b[38;5;241m.\u001b[39mCSS_SELECTOR,\u001b[38;5;124m'\u001b[39m\u001b[38;5;124mli.group\u001b[39m\u001b[38;5;124m'\u001b[39m\u001b[38;5;241m+\u001b[39m\u001b[38;5;28mstr\u001b[39m(i)\u001b[38;5;241m+\u001b[39m\u001b[38;5;124m'\u001b[39m\u001b[38;5;124m>a\u001b[39m\u001b[38;5;124m'\u001b[39m)))\n\u001b[0;32m      5\u001b[0m     \u001b[38;5;66;03m#wait : driver 객체를 가짐과 동시에 최대 10초까지 기다려줌\u001b[39;00m\n\u001b[0;32m      6\u001b[0m     \u001b[38;5;66;03m#until(): 대기조건 지정\u001b[39;00m\n\u001b[0;32m      7\u001b[0m     \u001b[38;5;66;03m#EC.presence_of_element_located(): 해당 요소가 나타날 때까지\u001b[39;00m\n\u001b[0;32m      8\u001b[0m     \u001b[38;5;66;03m#driver에게 css selector를 가진 요소가 로드될 때까지 \u001b[39;00m\n\u001b[0;32m      9\u001b[0m     item\u001b[38;5;241m.\u001b[39mclick()\n",
      "File \u001b[1;32m~\\anaconda3\\Lib\\site-packages\\selenium\\webdriver\\support\\wait.py:86\u001b[0m, in \u001b[0;36mWebDriverWait.until\u001b[1;34m(self, method, message)\u001b[0m\n\u001b[0;32m     84\u001b[0m \u001b[38;5;28;01mwhile\u001b[39;00m \u001b[38;5;28;01mTrue\u001b[39;00m:\n\u001b[0;32m     85\u001b[0m     \u001b[38;5;28;01mtry\u001b[39;00m:\n\u001b[1;32m---> 86\u001b[0m         value \u001b[38;5;241m=\u001b[39m method(\u001b[38;5;28mself\u001b[39m\u001b[38;5;241m.\u001b[39m_driver)\n\u001b[0;32m     87\u001b[0m         \u001b[38;5;28;01mif\u001b[39;00m value:\n\u001b[0;32m     88\u001b[0m             \u001b[38;5;28;01mreturn\u001b[39;00m value\n",
      "File \u001b[1;32m~\\anaconda3\\Lib\\site-packages\\selenium\\webdriver\\support\\expected_conditions.py:81\u001b[0m, in \u001b[0;36mpresence_of_element_located.<locals>._predicate\u001b[1;34m(driver)\u001b[0m\n\u001b[0;32m     80\u001b[0m \u001b[38;5;28;01mdef\u001b[39;00m \u001b[38;5;21m_predicate\u001b[39m(driver):\n\u001b[1;32m---> 81\u001b[0m     \u001b[38;5;28;01mreturn\u001b[39;00m driver\u001b[38;5;241m.\u001b[39mfind_element(\u001b[38;5;241m*\u001b[39mlocator)\n",
      "File \u001b[1;32m~\\anaconda3\\Lib\\site-packages\\selenium\\webdriver\\remote\\webdriver.py:738\u001b[0m, in \u001b[0;36mWebDriver.find_element\u001b[1;34m(self, by, value)\u001b[0m\n\u001b[0;32m    735\u001b[0m     by \u001b[38;5;241m=\u001b[39m By\u001b[38;5;241m.\u001b[39mCSS_SELECTOR\n\u001b[0;32m    736\u001b[0m     value \u001b[38;5;241m=\u001b[39m \u001b[38;5;124mf\u001b[39m\u001b[38;5;124m'\u001b[39m\u001b[38;5;124m[name=\u001b[39m\u001b[38;5;124m\"\u001b[39m\u001b[38;5;132;01m{\u001b[39;00mvalue\u001b[38;5;132;01m}\u001b[39;00m\u001b[38;5;124m\"\u001b[39m\u001b[38;5;124m]\u001b[39m\u001b[38;5;124m'\u001b[39m\n\u001b[1;32m--> 738\u001b[0m \u001b[38;5;28;01mreturn\u001b[39;00m \u001b[38;5;28mself\u001b[39m\u001b[38;5;241m.\u001b[39mexecute(Command\u001b[38;5;241m.\u001b[39mFIND_ELEMENT, {\u001b[38;5;124m\"\u001b[39m\u001b[38;5;124musing\u001b[39m\u001b[38;5;124m\"\u001b[39m: by, \u001b[38;5;124m\"\u001b[39m\u001b[38;5;124mvalue\u001b[39m\u001b[38;5;124m\"\u001b[39m: value})[\u001b[38;5;124m\"\u001b[39m\u001b[38;5;124mvalue\u001b[39m\u001b[38;5;124m\"\u001b[39m]\n",
      "File \u001b[1;32m~\\anaconda3\\Lib\\site-packages\\selenium\\webdriver\\remote\\webdriver.py:344\u001b[0m, in \u001b[0;36mWebDriver.execute\u001b[1;34m(self, driver_command, params)\u001b[0m\n\u001b[0;32m    342\u001b[0m response \u001b[38;5;241m=\u001b[39m \u001b[38;5;28mself\u001b[39m\u001b[38;5;241m.\u001b[39mcommand_executor\u001b[38;5;241m.\u001b[39mexecute(driver_command, params)\n\u001b[0;32m    343\u001b[0m \u001b[38;5;28;01mif\u001b[39;00m response:\n\u001b[1;32m--> 344\u001b[0m     \u001b[38;5;28mself\u001b[39m\u001b[38;5;241m.\u001b[39merror_handler\u001b[38;5;241m.\u001b[39mcheck_response(response)\n\u001b[0;32m    345\u001b[0m     response[\u001b[38;5;124m\"\u001b[39m\u001b[38;5;124mvalue\u001b[39m\u001b[38;5;124m\"\u001b[39m] \u001b[38;5;241m=\u001b[39m \u001b[38;5;28mself\u001b[39m\u001b[38;5;241m.\u001b[39m_unwrap_value(response\u001b[38;5;241m.\u001b[39mget(\u001b[38;5;124m\"\u001b[39m\u001b[38;5;124mvalue\u001b[39m\u001b[38;5;124m\"\u001b[39m, \u001b[38;5;28;01mNone\u001b[39;00m))\n\u001b[0;32m    346\u001b[0m     \u001b[38;5;28;01mreturn\u001b[39;00m response\n",
      "File \u001b[1;32m~\\anaconda3\\Lib\\site-packages\\selenium\\webdriver\\remote\\errorhandler.py:229\u001b[0m, in \u001b[0;36mErrorHandler.check_response\u001b[1;34m(self, response)\u001b[0m\n\u001b[0;32m    227\u001b[0m         alert_text \u001b[38;5;241m=\u001b[39m value[\u001b[38;5;124m\"\u001b[39m\u001b[38;5;124malert\u001b[39m\u001b[38;5;124m\"\u001b[39m]\u001b[38;5;241m.\u001b[39mget(\u001b[38;5;124m\"\u001b[39m\u001b[38;5;124mtext\u001b[39m\u001b[38;5;124m\"\u001b[39m)\n\u001b[0;32m    228\u001b[0m     \u001b[38;5;28;01mraise\u001b[39;00m exception_class(message, screen, stacktrace, alert_text)  \u001b[38;5;66;03m# type: ignore[call-arg]  # mypy is not smart enough here\u001b[39;00m\n\u001b[1;32m--> 229\u001b[0m \u001b[38;5;28;01mraise\u001b[39;00m exception_class(message, screen, stacktrace)\n",
      "\u001b[1;31mInvalidSessionIdException\u001b[0m: Message: invalid session id\nStacktrace:\n\tGetHandleVerifier [0x00007FF600428EF2+54786]\n\t(No symbol) [0x00007FF600395612]\n\t(No symbol) [0x00007FF60024A4FD]\n\t(No symbol) [0x00007FF60028038E]\n\t(No symbol) [0x00007FF6002ABD62]\n\t(No symbol) [0x00007FF6002A7AD0]\n\t(No symbol) [0x00007FF6002A73D6]\n\t(No symbol) [0x00007FF600220CD0]\n\tGetHandleVerifier [0x00007FF600777F52+3524194]\n\tGetHandleVerifier [0x00007FF6007CD800+3874576]\n\tGetHandleVerifier [0x00007FF6007C5D7F+3843215]\n\tGetHandleVerifier [0x00007FF6004C5086+694166]\n\t(No symbol) [0x00007FF6003A0A88]\n\t(No symbol) [0x00007FF60021FAFE]\n\tGetHandleVerifier [0x00007FF60080F1E8+4143352]\n\tBaseThreadInitThunk [0x00007FFF5BBD7344+20]\n\tRtlUserThreadStart [0x00007FFF5CFA26B1+33]\n"
     ]
    }
   ],
   "source": [
    "item_name_list = []\n",
    "item_price_list =[]\n",
    "for i in range(1,13) :\n",
    "    item=drWait.until(EC.presence_of_element_located((By.CSS_SELECTOR,'li.group'+str(i)+'>a')))\n",
    "    #wait : driver 객체를 가짐과 동시에 최대 10초까지 기다려줌\n",
    "    #until(): 대기조건 지정\n",
    "    #EC.presence_of_element_located(): 해당 요소가 나타날 때까지\n",
    "    #driver에게 css selector를 가진 요소가 로드될 때까지 \n",
    "    item.click()\n",
    "    #time.sleep(1) #화면이 움직이는 시간이므로, 1초 딜레이 줌\n",
    "    name = drWait.until(EC.presence_of_all_elements_located(By.CSS_SELECTOR,value='a.itemname'))\n",
    "    price = drWait.until(EC.presence_of_all_elements_located(By.CSS_SELECTOR,value='div.s-price>strong>span'))\n",
    "    for i in range(len(name)) :\n",
    "        item_name_list.append(name[i].text)\n",
    "        item_price_list.append(price[i].text)\n",
    "        \n",
    "        \n",
    "driver.close()"
   ]
  },
  {
   "cell_type": "code",
   "execution_count": null,
   "id": "c1d9e7b8",
   "metadata": {},
   "outputs": [],
   "source": []
  },
  {
   "cell_type": "code",
   "execution_count": 10,
   "id": "2157c999",
   "metadata": {},
   "outputs": [
    {
     "data": {
      "text/plain": [
       "(1200, 1200)"
      ]
     },
     "execution_count": 10,
     "metadata": {},
     "output_type": "execute_result"
    }
   ],
   "source": [
    "# display(item_name_list)\n",
    "len(item_name_list),len(item_price_list)"
   ]
  },
  {
   "cell_type": "code",
   "execution_count": 8,
   "id": "c5d07271",
   "metadata": {},
   "outputs": [],
   "source": [
    "import pandas as pd"
   ]
  },
  {
   "cell_type": "code",
   "execution_count": 14,
   "id": "8e615834",
   "metadata": {},
   "outputs": [],
   "source": [
    "data = {\n",
    "    '상품명' : item_name_list, '가격(할인가)' : item_price_list\n",
    "}\n",
    "itemList = pd.DataFrame(data)"
   ]
  },
  {
   "cell_type": "code",
   "execution_count": 16,
   "id": "3cfd81af",
   "metadata": {},
   "outputs": [
    {
     "data": {
      "text/html": [
       "<div>\n",
       "<style scoped>\n",
       "    .dataframe tbody tr th:only-of-type {\n",
       "        vertical-align: middle;\n",
       "    }\n",
       "\n",
       "    .dataframe tbody tr th {\n",
       "        vertical-align: top;\n",
       "    }\n",
       "\n",
       "    .dataframe thead th {\n",
       "        text-align: right;\n",
       "    }\n",
       "</style>\n",
       "<table border=\"1\" class=\"dataframe\">\n",
       "  <thead>\n",
       "    <tr style=\"text-align: right;\">\n",
       "      <th></th>\n",
       "      <th>상품명</th>\n",
       "      <th>가격(할인가)</th>\n",
       "    </tr>\n",
       "  </thead>\n",
       "  <tbody>\n",
       "    <tr>\n",
       "      <th>0</th>\n",
       "      <td>20% 쿠폰가 7920원 따뜻한 후리스자켓/패딩/조끼/기모티/바지/빅사이즈까지 (H...</td>\n",
       "      <td>9,900원</td>\n",
       "    </tr>\n",
       "    <tr>\n",
       "      <th>1</th>\n",
       "      <td>스윗드림 남여공용 빅사이즈 극세사 융털 수면바지 (X03LP025U)A1</td>\n",
       "      <td>7,900원</td>\n",
       "    </tr>\n",
       "    <tr>\n",
       "      <th>2</th>\n",
       "      <td>((24시간 특가)) 박스핏/오버핏 여성 기모 후드 맨투맨 FZ653</td>\n",
       "      <td>12,900원</td>\n",
       "    </tr>\n",
       "    <tr>\n",
       "      <th>3</th>\n",
       "      <td>[게스]누구나20%+5%쿠폰 게스본사 FW 신상/이월 맨투맨/아우터/데님 단독가 행사</td>\n",
       "      <td>39,000원</td>\n",
       "    </tr>\n",
       "    <tr>\n",
       "      <th>4</th>\n",
       "      <td>[라이프폼]국산 30수 순면100% 코마사 무지 긴팔티 티셔츠 긴팔 무지티</td>\n",
       "      <td>6,900원</td>\n",
       "    </tr>\n",
       "    <tr>\n",
       "      <th>...</th>\n",
       "      <td>...</td>\n",
       "      <td>...</td>\n",
       "    </tr>\n",
       "    <tr>\n",
       "      <th>1195</th>\n",
       "      <td>[GS수퍼마켓](GS THE FRESH)금액상품권1만원</td>\n",
       "      <td>9,700원</td>\n",
       "    </tr>\n",
       "    <tr>\n",
       "      <th>1196</th>\n",
       "      <td>[해피머니상품권](카드가능)(해피머니) 온라인 문화상품권 1만원권</td>\n",
       "      <td>9,700원</td>\n",
       "    </tr>\n",
       "    <tr>\n",
       "      <th>1197</th>\n",
       "      <td>[코스트코]코스트코 상품권 / 10만원권 / 회원대용</td>\n",
       "      <td>100,000원</td>\n",
       "    </tr>\n",
       "    <tr>\n",
       "      <th>1198</th>\n",
       "      <td>[에그머니](에그머니) 온라인게임상품권 3만원</td>\n",
       "      <td>27,300원</td>\n",
       "    </tr>\n",
       "    <tr>\n",
       "      <th>1199</th>\n",
       "      <td>[버거킹](버거킹) 갈릭불고기와퍼+21치즈스틱+콜라R</td>\n",
       "      <td>9,500원</td>\n",
       "    </tr>\n",
       "  </tbody>\n",
       "</table>\n",
       "<p>1200 rows × 2 columns</p>\n",
       "</div>"
      ],
      "text/plain": [
       "                                                    상품명   가격(할인가)\n",
       "0     20% 쿠폰가 7920원 따뜻한 후리스자켓/패딩/조끼/기모티/바지/빅사이즈까지 (H...    9,900원\n",
       "1              스윗드림 남여공용 빅사이즈 극세사 융털 수면바지 (X03LP025U)A1    7,900원\n",
       "2                ((24시간 특가)) 박스핏/오버핏 여성 기모 후드 맨투맨 FZ653   12,900원\n",
       "3       [게스]누구나20%+5%쿠폰 게스본사 FW 신상/이월 맨투맨/아우터/데님 단독가 행사   39,000원\n",
       "4             [라이프폼]국산 30수 순면100% 코마사 무지 긴팔티 티셔츠 긴팔 무지티    6,900원\n",
       "...                                                 ...       ...\n",
       "1195                     [GS수퍼마켓](GS THE FRESH)금액상품권1만원    9,700원\n",
       "1196               [해피머니상품권](카드가능)(해피머니) 온라인 문화상품권 1만원권    9,700원\n",
       "1197                      [코스트코]코스트코 상품권 / 10만원권 / 회원대용  100,000원\n",
       "1198                          [에그머니](에그머니) 온라인게임상품권 3만원   27,300원\n",
       "1199                      [버거킹](버거킹) 갈릭불고기와퍼+21치즈스틱+콜라R    9,500원\n",
       "\n",
       "[1200 rows x 2 columns]"
      ]
     },
     "metadata": {},
     "output_type": "display_data"
    }
   ],
   "source": [
    "display(itemList)"
   ]
  },
  {
   "cell_type": "code",
   "execution_count": 19,
   "id": "fa654c2c",
   "metadata": {},
   "outputs": [
    {
     "data": {
      "text/html": [
       "<div>\n",
       "<style scoped>\n",
       "    .dataframe tbody tr th:only-of-type {\n",
       "        vertical-align: middle;\n",
       "    }\n",
       "\n",
       "    .dataframe tbody tr th {\n",
       "        vertical-align: top;\n",
       "    }\n",
       "\n",
       "    .dataframe thead th {\n",
       "        text-align: right;\n",
       "    }\n",
       "</style>\n",
       "<table border=\"1\" class=\"dataframe\">\n",
       "  <thead>\n",
       "    <tr style=\"text-align: right;\">\n",
       "      <th></th>\n",
       "      <th>상품명</th>\n",
       "      <th>가격(할인가)</th>\n",
       "    </tr>\n",
       "  </thead>\n",
       "  <tbody>\n",
       "    <tr>\n",
       "      <th>0</th>\n",
       "      <td>20% 쿠폰가 7920원 따뜻한 후리스자켓/패딩/조끼/기모티/바지/빅사이즈까지 (H...</td>\n",
       "      <td>9,900원</td>\n",
       "    </tr>\n",
       "    <tr>\n",
       "      <th>1</th>\n",
       "      <td>스윗드림 남여공용 빅사이즈 극세사 융털 수면바지 (X03LP025U)A1</td>\n",
       "      <td>7,900원</td>\n",
       "    </tr>\n",
       "    <tr>\n",
       "      <th>2</th>\n",
       "      <td>((24시간 특가)) 박스핏/오버핏 여성 기모 후드 맨투맨 FZ653</td>\n",
       "      <td>12,900원</td>\n",
       "    </tr>\n",
       "    <tr>\n",
       "      <th>3</th>\n",
       "      <td>[게스]누구나20%+5%쿠폰 게스본사 FW 신상/이월 맨투맨/아우터/데님 단독가 행사</td>\n",
       "      <td>39,000원</td>\n",
       "    </tr>\n",
       "    <tr>\n",
       "      <th>4</th>\n",
       "      <td>[라이프폼]국산 30수 순면100% 코마사 무지 긴팔티 티셔츠 긴팔 무지티</td>\n",
       "      <td>6,900원</td>\n",
       "    </tr>\n",
       "    <tr>\n",
       "      <th>...</th>\n",
       "      <td>...</td>\n",
       "      <td>...</td>\n",
       "    </tr>\n",
       "    <tr>\n",
       "      <th>94</th>\n",
       "      <td>[바이유(의류)][10%쿠폰 적용가 9890원] 단독최저가 바이유 여성 코듀로이 와...</td>\n",
       "      <td>10,980원</td>\n",
       "    </tr>\n",
       "    <tr>\n",
       "      <th>95</th>\n",
       "      <td>슬리 밴딩 기모 팬츠_a</td>\n",
       "      <td>12,400원</td>\n",
       "    </tr>\n",
       "    <tr>\n",
       "      <th>96</th>\n",
       "      <td>(주문폭주) 1+1 롱 +5cm 트레이닝 와이드팬츠 세미와이드 오버핏 밴딩 팬츠 가을겨울</td>\n",
       "      <td>25,800원</td>\n",
       "    </tr>\n",
       "    <tr>\n",
       "      <th>97</th>\n",
       "      <td>아주나이스 남성 따뜻한 약기모 티셔츠 (KP33LT066M)A1</td>\n",
       "      <td>5,900원</td>\n",
       "    </tr>\n",
       "    <tr>\n",
       "      <th>98</th>\n",
       "      <td>[루시앙](10%쿠폰/쿠폰적용가 17910원) 패딩/코트/다운/자켓 외 아우터 균일...</td>\n",
       "      <td>19,900원</td>\n",
       "    </tr>\n",
       "  </tbody>\n",
       "</table>\n",
       "<p>99 rows × 2 columns</p>\n",
       "</div>"
      ],
      "text/plain": [
       "                                                  상품명  가격(할인가)\n",
       "0   20% 쿠폰가 7920원 따뜻한 후리스자켓/패딩/조끼/기모티/바지/빅사이즈까지 (H...   9,900원\n",
       "1            스윗드림 남여공용 빅사이즈 극세사 융털 수면바지 (X03LP025U)A1   7,900원\n",
       "2              ((24시간 특가)) 박스핏/오버핏 여성 기모 후드 맨투맨 FZ653  12,900원\n",
       "3     [게스]누구나20%+5%쿠폰 게스본사 FW 신상/이월 맨투맨/아우터/데님 단독가 행사  39,000원\n",
       "4           [라이프폼]국산 30수 순면100% 코마사 무지 긴팔티 티셔츠 긴팔 무지티   6,900원\n",
       "..                                                ...      ...\n",
       "94  [바이유(의류)][10%쿠폰 적용가 9890원] 단독최저가 바이유 여성 코듀로이 와...  10,980원\n",
       "95                                      슬리 밴딩 기모 팬츠_a  12,400원\n",
       "96  (주문폭주) 1+1 롱 +5cm 트레이닝 와이드팬츠 세미와이드 오버핏 밴딩 팬츠 가을겨울  25,800원\n",
       "97                아주나이스 남성 따뜻한 약기모 티셔츠 (KP33LT066M)A1   5,900원\n",
       "98  [루시앙](10%쿠폰/쿠폰적용가 17910원) 패딩/코트/다운/자켓 외 아우터 균일...  19,900원\n",
       "\n",
       "[99 rows x 2 columns]"
      ]
     },
     "execution_count": 19,
     "metadata": {},
     "output_type": "execute_result"
    }
   ],
   "source": [
    "itemList.iloc[0:99]."
   ]
  },
  {
   "cell_type": "code",
   "execution_count": 12,
   "id": "fe252192",
   "metadata": {},
   "outputs": [],
   "source": [
    "itemList.to_excel('Gmarket_best_item.xlsx',index=False)"
   ]
  },
  {
   "cell_type": "code",
   "execution_count": null,
   "id": "b6606b1f",
   "metadata": {},
   "outputs": [],
   "source": []
  }
 ],
 "metadata": {
  "kernelspec": {
   "display_name": "Python 3 (ipykernel)",
   "language": "python",
   "name": "python3"
  },
  "language_info": {
   "codemirror_mode": {
    "name": "ipython",
    "version": 3
   },
   "file_extension": ".py",
   "mimetype": "text/x-python",
   "name": "python",
   "nbconvert_exporter": "python",
   "pygments_lexer": "ipython3",
   "version": "3.11.4"
  }
 },
 "nbformat": 4,
 "nbformat_minor": 5
}
