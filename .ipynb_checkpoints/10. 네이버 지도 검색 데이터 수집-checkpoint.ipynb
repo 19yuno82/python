{
 "cells": [
  {
   "cell_type": "code",
   "execution_count": 2,
   "id": "deb57a74",
   "metadata": {},
   "outputs": [],
   "source": [
    "import os\n",
    "import time\n",
    "from tqdm import tqdm as tq\n",
    "from selenium import webdriver as wb #웹드라이버\n",
    "from selenium.webdriver.common.by import By\n",
    "from selenium.webdriver.common.keys import Keys"
   ]
  },
  {
   "cell_type": "code",
   "execution_count": 3,
   "id": "8f980a5f",
   "metadata": {},
   "outputs": [],
   "source": [
    "naverMap_url = 'https://map.naver.com/p?c=15.00,0,0,0,dh'"
   ]
  },
  {
   "cell_type": "code",
   "execution_count": 4,
   "id": "9f1ea59c",
   "metadata": {},
   "outputs": [],
   "source": [
    "driver=wb.Chrome()\n",
    "driver.get(naverMap_url)"
   ]
  },
  {
   "cell_type": "code",
   "execution_count": 6,
   "id": "abe86afa",
   "metadata": {},
   "outputs": [],
   "source": [
    "#지도 검색창에 '동명동 맛집' 키워드 전달하기\n",
    "inputData=driver.find_element(By.CSS_SELECTOR,'input.input_search')\n",
    "inputData.send_keys('동명동 맛집\\n')"
   ]
  },
  {
   "cell_type": "code",
   "execution_count": 21,
   "id": "5ad7b0bf",
   "metadata": {},
   "outputs": [],
   "source": [
    "#가게이름 접근하기\n",
    "#NoSuchElementException 오류발생 -> 해당 요소를 찾을 수 없다는 의미\n",
    "#iframe에 있는 요소를 바로 접근할 수 없기 때문에 위와 같은 오류가 발생\n",
    "# driver.find_element(By.CSS_SELECTOR,'.place_bluelink.TYaxT')"
   ]
  },
  {
   "cell_type": "code",
   "execution_count": 18,
   "id": "8584491e",
   "metadata": {},
   "outputs": [],
   "source": [
    "#switch_to.frame(iframe의 id값) : 해당 id값을 가진 ifrmae으로 창 전환\n",
    "driver.switch_to.frame('searchIframe')"
   ]
  },
  {
   "cell_type": "code",
   "execution_count": 20,
   "id": "fd452401",
   "metadata": {},
   "outputs": [],
   "source": [
    "store_titles=driver.find_elements(By.CSS_SELECTOR,'.place_bluelink.TYaxT')"
   ]
  },
  {
   "cell_type": "code",
   "execution_count": 24,
   "id": "0d59dff8",
   "metadata": {},
   "outputs": [
    {
     "data": {
      "text/plain": [
       "'틸트틸트'"
      ]
     },
     "execution_count": 24,
     "metadata": {},
     "output_type": "execute_result"
    }
   ],
   "source": [
    "store_titles[1].text"
   ]
  },
  {
   "cell_type": "code",
   "execution_count": null,
   "id": "339eccb8",
   "metadata": {},
   "outputs": [],
   "source": []
  },
  {
   "cell_type": "code",
   "execution_count": null,
   "id": "aa51abf7",
   "metadata": {},
   "outputs": [],
   "source": []
  },
  {
   "cell_type": "code",
   "execution_count": null,
   "id": "0730cad4",
   "metadata": {},
   "outputs": [],
   "source": []
  },
  {
   "cell_type": "code",
   "execution_count": null,
   "id": "abe6e11b",
   "metadata": {},
   "outputs": [],
   "source": []
  }
 ],
 "metadata": {
  "kernelspec": {
   "display_name": "Python 3 (ipykernel)",
   "language": "python",
   "name": "python3"
  },
  "language_info": {
   "codemirror_mode": {
    "name": "ipython",
    "version": 3
   },
   "file_extension": ".py",
   "mimetype": "text/x-python",
   "name": "python",
   "nbconvert_exporter": "python",
   "pygments_lexer": "ipython3",
   "version": "3.11.4"
  }
 },
 "nbformat": 4,
 "nbformat_minor": 5
}
