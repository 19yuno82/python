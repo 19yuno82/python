{
 "cells": [
  {
   "cell_type": "markdown",
   "id": "64f14d6a",
   "metadata": {},
   "source": [
    "### 포켓몬 공식 페이지에서 이미지 데이터 수집\n",
    "- https://www.pokemonkorea.co.kr/pokedex\n",
    "- 이미지를 다운받아 바탕화면에 저장 -> 폴더도 생성"
   ]
  },
  {
   "cell_type": "code",
   "execution_count": 14,
   "id": "cd373afb",
   "metadata": {},
   "outputs": [],
   "source": [
    "#폴더나 파일 생성 라이브러리\n",
    "import os\n",
    "from tqdm import tqdm as tq\n",
    "from selenium import webdriver as wb\n",
    "from selenium.webdriver.common.by import By\n",
    "from selenium.webdriver.common.keys import Keys\n",
    "from bs4 import BeautifulSoup as bs\n",
    "#url의 내용을 파일로 다운로드하는데 사용되는 라이브러리\n",
    "from urllib.request import urlretrieve\n",
    "import time"
   ]
  },
  {
   "cell_type": "code",
   "execution_count": 2,
   "id": "6684f21b",
   "metadata": {},
   "outputs": [
    {
     "name": "stdout",
     "output_type": "stream",
     "text": [
      "폴더가 이미 존재합니다.\n"
     ]
    }
   ],
   "source": [
    "#mkdir : make directori : 폴더 생성\n",
    "try :\n",
    "    os.mkdir('C:\\\\Users\\\\smhrd\\\\Desktop\\\\pokemon')\n",
    "    print('폴더 생성 완료.')\n",
    "except :\n",
    "    print('폴더가 이미 존재합니다.')"
   ]
  },
  {
   "cell_type": "code",
   "execution_count": null,
   "id": "e1e10cf2",
   "metadata": {},
   "outputs": [],
   "source": [
    "#os.path.isdir('폴더 경로') : 해당 경로에 있으면 True 반환 \n",
    "if os.path.isdir('C:\\\\Users\\\\smhrd\\\\Desktop\\\\pokemon') :\n",
    "    print('폴더 이미 존재합니다.')\n",
    "else :\n",
    "    os.mkdir('C:\\\\Users\\\\smhrd\\\\Desktop\\\\pokemon')\n",
    "    print('폴더 생성 완료')"
   ]
  },
  {
   "cell_type": "code",
   "execution_count": 15,
   "id": "683ece86",
   "metadata": {},
   "outputs": [],
   "source": [
    "pokemon_url = 'https://www.pokemonkorea.co.kr/pokedex'\n",
    "driver = wb.Chrome()\n",
    "driver.get(pokemon_url)"
   ]
  },
  {
   "cell_type": "markdown",
   "id": "d6cabb11",
   "metadata": {},
   "source": [
    "### 화면 스크롤 내리기\n",
    "- 컴퓨터에게는 마우스 휠이라는 개념이 없음\n",
    "- 그래서 키보드 입력으로 스크롤을 내릴 수 있음\n",
    "- spacebar, end(가장 아래로), page down(한 페이지 단위로 내려감),방향키 아래(↓)"
   ]
  },
  {
   "cell_type": "code",
   "execution_count": null,
   "id": "fcfea53b",
   "metadata": {},
   "outputs": [],
   "source": [
    "#스크롤이 다 내려갔는지를 비교하기 위해서\n",
    "#스크롤 이전의 body 태그 길이와 스크롤 후의 body 태그 길이를 비교\n",
    "#둘이 같다면? break\n",
    "\n",
    "#excute_script() : javascript 코드 실행 함수"
   ]
  },
  {
   "cell_type": "code",
   "execution_count": 16,
   "id": "bfdcb338",
   "metadata": {},
   "outputs": [],
   "source": [
    "lastHeight = driver.execute_script('return document.body.scrollHeight')\n",
    "while True :\n",
    "    #print(lastHeight)\n",
    "    #1. 웹 페이지 스크롤 내리기\n",
    "    body=driver.find_element(By.TAG_NAME, 'body')\n",
    "    body.send_keys(Keys.END)\n",
    "    time.sleep(1)\n",
    "\n",
    "    #2.웹 페이지 전체 높이 가져오기\n",
    "    currentHeight = driver.execute_script('return document.body.scrollHeight')\n",
    "    #print(currentHeight)\n",
    "    #3. 페이지 높이에 변화가 없다면 반복문 빠져나오기\n",
    "    if currentHeight == lastHeight :\n",
    "        break;\n",
    "    #4. 이전 페이지 높이를 새로운 페이지 높이값으로 업데이트\n",
    "    lastHeight = currentHeight"
   ]
  },
  {
   "cell_type": "code",
   "execution_count": null,
   "id": "25828184",
   "metadata": {
    "scrolled": true
   },
   "outputs": [],
   "source": [
    "#스크롤을 내렸는데 끝까지 내렸음에도 에러가 안뜸\n",
    "#언제까지 반복시켜야 하지\n",
    "# prev_height = driver.execute_script(\"return document.body.scrollHeight\")\n",
    "# try:\n",
    "#     while True :\n",
    "#         driver.execute_script(\"window.scrollTo(0,document.body.scrollHeight)\")\n",
    "#         time.sleep(1)\n",
    "#         current_height = driver.execute_script(\"return document.body.scrollHeight\")\n",
    "#         if current_height == prev_height :\n",
    "#             break\n",
    "#         prev_height = current_height\n",
    "        \n",
    "# except :\n",
    "#     print('더 이상 내릴 수 없습니다.')"
   ]
  },
  {
   "cell_type": "code",
   "execution_count": 8,
   "id": "1cee07e8",
   "metadata": {},
   "outputs": [],
   "source": [
    "#이미지 url 파일로 저장\n",
    "# urlretrieve(img[1]['src'],'C:\\\\Users\\\\smhrd\\\\Desktop\\\\pokemon\\\\포켓몬'+str(2)+'.jpg"
   ]
  },
  {
   "cell_type": "code",
   "execution_count": 20,
   "id": "567c9a6a",
   "metadata": {},
   "outputs": [
    {
     "data": {
      "text/plain": [
       "(1228, 1228)"
      ]
     },
     "execution_count": 20,
     "metadata": {},
     "output_type": "execute_result"
    }
   ],
   "source": [
    "imgs = driver.find_elements(By.CSS_SELECTOR,'.img-fluid')\n",
    "numbering = driver.find_elements(By.CSS_SELECTOR,'.bx-txt>h3>p')\n",
    "len(imgs),len(numbering)"
   ]
  },
  {
   "cell_type": "code",
   "execution_count": 21,
   "id": "08b4b8ef",
   "metadata": {},
   "outputs": [
    {
     "name": "stderr",
     "output_type": "stream",
     "text": [
      "100%|██████████████████████████████████████████████████████████████████████████████| 1228/1228 [02:10<00:00,  9.39it/s]\n"
     ]
    }
   ],
   "source": [
    "num = 0\n",
    "for i in tq(range(len(imgs))) :\n",
    "    urlretrieve(imgs[i].get_attribute('src'),f\"C:\\\\Users\\\\smhrd\\\\Desktop\\\\pokemon\\\\{numbering[i].text}.jpg\")"
   ]
  },
  {
   "cell_type": "code",
   "execution_count": null,
   "id": "4968c071",
   "metadata": {},
   "outputs": [],
   "source": []
  }
 ],
 "metadata": {
  "kernelspec": {
   "display_name": "Python 3 (ipykernel)",
   "language": "python",
   "name": "python3"
  },
  "language_info": {
   "codemirror_mode": {
    "name": "ipython",
    "version": 3
   },
   "file_extension": ".py",
   "mimetype": "text/x-python",
   "name": "python",
   "nbconvert_exporter": "python",
   "pygments_lexer": "ipython3",
   "version": "3.11.4"
  }
 },
 "nbformat": 4,
 "nbformat_minor": 5
}
