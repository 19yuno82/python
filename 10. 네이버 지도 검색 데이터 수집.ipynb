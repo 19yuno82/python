{
 "cells": [
  {
   "cell_type": "code",
   "execution_count": 2,
   "id": "69765307",
   "metadata": {},
   "outputs": [],
   "source": [
    "import os\n",
    "import time\n",
    "from tqdm import tqdm as tq\n",
    "from selenium import webdriver as wb #웹드라이버\n",
    "from selenium.webdriver.common.by import By\n",
    "from selenium.webdriver.common.keys import Keys"
   ]
  },
  {
   "cell_type": "code",
   "execution_count": 3,
   "id": "0187a8be",
   "metadata": {},
   "outputs": [],
   "source": [
    "naverMap_url = 'https://map.naver.com/p?c=15.00,0,0,0,dh'"
   ]
  },
  {
   "cell_type": "code",
   "execution_count": 4,
   "id": "44ae6721",
   "metadata": {},
   "outputs": [],
   "source": [
    "driver=wb.Chrome()\n",
    "driver.get(naverMap_url)"
   ]
  },
  {
   "cell_type": "code",
   "execution_count": 6,
   "id": "89c978a2",
   "metadata": {},
   "outputs": [],
   "source": [
    "#지도 검색창에 '동명동 맛집' 키워드 전달하기\n",
    "inputData=driver.find_element(By.CSS_SELECTOR,'input.input_search')\n",
    "inputData.send_keys('동명동 맛집\\n')"
   ]
  },
  {
   "cell_type": "code",
   "execution_count": 21,
   "id": "f62a42b2",
   "metadata": {},
   "outputs": [],
   "source": [
    "#가게이름 접근하기\n",
    "#NoSuchElementException 오류발생 -> 해당 요소를 찾을 수 없다는 의미\n",
    "#iframe에 있는 요소를 바로 접근할 수 없기 때문에 위와 같은 오류가 발생\n",
    "# driver.find_element(By.CSS_SELECTOR,'.place_bluelink.TYaxT')"
   ]
  },
  {
   "cell_type": "code",
   "execution_count": 18,
   "id": "f2c1b126",
   "metadata": {},
   "outputs": [],
   "source": [
    "#switch_to.frame(iframe의 id값) : 해당 id값을 가진 ifrmae으로 창 전환\n",
    "driver.switch_to.frame('searchIframe')"
   ]
  },
  {
   "cell_type": "code",
   "execution_count": 20,
   "id": "a6faa17b",
   "metadata": {},
   "outputs": [],
   "source": [
    "store_titles=driver.find_elements(By.CSS_SELECTOR,'.place_bluelink.TYaxT')"
   ]
  },
  {
   "cell_type": "code",
   "execution_count": 28,
   "id": "a71f6421",
   "metadata": {},
   "outputs": [
    {
     "data": {
      "text/plain": [
       "'규슈'"
      ]
     },
     "execution_count": 28,
     "metadata": {},
     "output_type": "execute_result"
    }
   ],
   "source": [
    "store_titles[4].text"
   ]
  },
  {
   "cell_type": "code",
   "execution_count": 30,
   "id": "ce5dff15",
   "metadata": {},
   "outputs": [],
   "source": [
    "#가게 이름 클릭 > 가게 상세 정보가 있는 iframe 창이 띄워짐\n",
    "store_titles[4].click()"
   ]
  },
  {
   "cell_type": "code",
   "execution_count": 31,
   "id": "d64b73d4",
   "metadata": {
    "collapsed": true
   },
   "outputs": [
    {
     "ename": "NoSuchElementException",
     "evalue": "Message: no such element: Unable to locate element: {\"method\":\"css selector\",\"selector\":\"span.PXMot LXIwF\"}\n  (Session info: chrome=118.0.5993.89); For documentation on this error, please visit: https://www.selenium.dev/documentation/webdriver/troubleshooting/errors#no-such-element-exception\nStacktrace:\n\tGetHandleVerifier [0x00007FF600428EF2+54786]\n\t(No symbol) [0x00007FF600395612]\n\t(No symbol) [0x00007FF60024A64B]\n\t(No symbol) [0x00007FF60028B79C]\n\t(No symbol) [0x00007FF60028B91C]\n\t(No symbol) [0x00007FF6002C6D87]\n\t(No symbol) [0x00007FF6002ABEAF]\n\t(No symbol) [0x00007FF6002C4D02]\n\t(No symbol) [0x00007FF6002ABC43]\n\t(No symbol) [0x00007FF600280941]\n\t(No symbol) [0x00007FF600281B84]\n\tGetHandleVerifier [0x00007FF600777F52+3524194]\n\tGetHandleVerifier [0x00007FF6007CD800+3874576]\n\tGetHandleVerifier [0x00007FF6007C5D7F+3843215]\n\tGetHandleVerifier [0x00007FF6004C5086+694166]\n\t(No symbol) [0x00007FF6003A0A88]\n\t(No symbol) [0x00007FF60039CA94]\n\t(No symbol) [0x00007FF60039CBC2]\n\t(No symbol) [0x00007FF60038CC83]\n\tBaseThreadInitThunk [0x00007FFF5BBD7344+20]\n\tRtlUserThreadStart [0x00007FFF5CFA26B1+33]\n",
     "output_type": "error",
     "traceback": [
      "\u001b[1;31m---------------------------------------------------------------------------\u001b[0m",
      "\u001b[1;31mNoSuchElementException\u001b[0m                    Traceback (most recent call last)",
      "Cell \u001b[1;32mIn[31], line 3\u001b[0m\n\u001b[0;32m      1\u001b[0m \u001b[38;5;66;03m#가게 별점 가져오기\u001b[39;00m\n\u001b[0;32m      2\u001b[0m \u001b[38;5;66;03m#오류가 발생하는 이유는 다른 iframe 창의 내용을 접근하려고 하기 때문\u001b[39;00m\n\u001b[1;32m----> 3\u001b[0m rate \u001b[38;5;241m=\u001b[39m driver\u001b[38;5;241m.\u001b[39mfind_element(By\u001b[38;5;241m.\u001b[39mCSS_SELECTOR,\u001b[38;5;124m'\u001b[39m\u001b[38;5;124mspan.PXMot LXIwF\u001b[39m\u001b[38;5;124m'\u001b[39m)\n",
      "File \u001b[1;32m~\\anaconda3\\Lib\\site-packages\\selenium\\webdriver\\remote\\webdriver.py:738\u001b[0m, in \u001b[0;36mWebDriver.find_element\u001b[1;34m(self, by, value)\u001b[0m\n\u001b[0;32m    735\u001b[0m     by \u001b[38;5;241m=\u001b[39m By\u001b[38;5;241m.\u001b[39mCSS_SELECTOR\n\u001b[0;32m    736\u001b[0m     value \u001b[38;5;241m=\u001b[39m \u001b[38;5;124mf\u001b[39m\u001b[38;5;124m'\u001b[39m\u001b[38;5;124m[name=\u001b[39m\u001b[38;5;124m\"\u001b[39m\u001b[38;5;132;01m{\u001b[39;00mvalue\u001b[38;5;132;01m}\u001b[39;00m\u001b[38;5;124m\"\u001b[39m\u001b[38;5;124m]\u001b[39m\u001b[38;5;124m'\u001b[39m\n\u001b[1;32m--> 738\u001b[0m \u001b[38;5;28;01mreturn\u001b[39;00m \u001b[38;5;28mself\u001b[39m\u001b[38;5;241m.\u001b[39mexecute(Command\u001b[38;5;241m.\u001b[39mFIND_ELEMENT, {\u001b[38;5;124m\"\u001b[39m\u001b[38;5;124musing\u001b[39m\u001b[38;5;124m\"\u001b[39m: by, \u001b[38;5;124m\"\u001b[39m\u001b[38;5;124mvalue\u001b[39m\u001b[38;5;124m\"\u001b[39m: value})[\u001b[38;5;124m\"\u001b[39m\u001b[38;5;124mvalue\u001b[39m\u001b[38;5;124m\"\u001b[39m]\n",
      "File \u001b[1;32m~\\anaconda3\\Lib\\site-packages\\selenium\\webdriver\\remote\\webdriver.py:344\u001b[0m, in \u001b[0;36mWebDriver.execute\u001b[1;34m(self, driver_command, params)\u001b[0m\n\u001b[0;32m    342\u001b[0m response \u001b[38;5;241m=\u001b[39m \u001b[38;5;28mself\u001b[39m\u001b[38;5;241m.\u001b[39mcommand_executor\u001b[38;5;241m.\u001b[39mexecute(driver_command, params)\n\u001b[0;32m    343\u001b[0m \u001b[38;5;28;01mif\u001b[39;00m response:\n\u001b[1;32m--> 344\u001b[0m     \u001b[38;5;28mself\u001b[39m\u001b[38;5;241m.\u001b[39merror_handler\u001b[38;5;241m.\u001b[39mcheck_response(response)\n\u001b[0;32m    345\u001b[0m     response[\u001b[38;5;124m\"\u001b[39m\u001b[38;5;124mvalue\u001b[39m\u001b[38;5;124m\"\u001b[39m] \u001b[38;5;241m=\u001b[39m \u001b[38;5;28mself\u001b[39m\u001b[38;5;241m.\u001b[39m_unwrap_value(response\u001b[38;5;241m.\u001b[39mget(\u001b[38;5;124m\"\u001b[39m\u001b[38;5;124mvalue\u001b[39m\u001b[38;5;124m\"\u001b[39m, \u001b[38;5;28;01mNone\u001b[39;00m))\n\u001b[0;32m    346\u001b[0m     \u001b[38;5;28;01mreturn\u001b[39;00m response\n",
      "File \u001b[1;32m~\\anaconda3\\Lib\\site-packages\\selenium\\webdriver\\remote\\errorhandler.py:229\u001b[0m, in \u001b[0;36mErrorHandler.check_response\u001b[1;34m(self, response)\u001b[0m\n\u001b[0;32m    227\u001b[0m         alert_text \u001b[38;5;241m=\u001b[39m value[\u001b[38;5;124m\"\u001b[39m\u001b[38;5;124malert\u001b[39m\u001b[38;5;124m\"\u001b[39m]\u001b[38;5;241m.\u001b[39mget(\u001b[38;5;124m\"\u001b[39m\u001b[38;5;124mtext\u001b[39m\u001b[38;5;124m\"\u001b[39m)\n\u001b[0;32m    228\u001b[0m     \u001b[38;5;28;01mraise\u001b[39;00m exception_class(message, screen, stacktrace, alert_text)  \u001b[38;5;66;03m# type: ignore[call-arg]  # mypy is not smart enough here\u001b[39;00m\n\u001b[1;32m--> 229\u001b[0m \u001b[38;5;28;01mraise\u001b[39;00m exception_class(message, screen, stacktrace)\n",
      "\u001b[1;31mNoSuchElementException\u001b[0m: Message: no such element: Unable to locate element: {\"method\":\"css selector\",\"selector\":\"span.PXMot LXIwF\"}\n  (Session info: chrome=118.0.5993.89); For documentation on this error, please visit: https://www.selenium.dev/documentation/webdriver/troubleshooting/errors#no-such-element-exception\nStacktrace:\n\tGetHandleVerifier [0x00007FF600428EF2+54786]\n\t(No symbol) [0x00007FF600395612]\n\t(No symbol) [0x00007FF60024A64B]\n\t(No symbol) [0x00007FF60028B79C]\n\t(No symbol) [0x00007FF60028B91C]\n\t(No symbol) [0x00007FF6002C6D87]\n\t(No symbol) [0x00007FF6002ABEAF]\n\t(No symbol) [0x00007FF6002C4D02]\n\t(No symbol) [0x00007FF6002ABC43]\n\t(No symbol) [0x00007FF600280941]\n\t(No symbol) [0x00007FF600281B84]\n\tGetHandleVerifier [0x00007FF600777F52+3524194]\n\tGetHandleVerifier [0x00007FF6007CD800+3874576]\n\tGetHandleVerifier [0x00007FF6007C5D7F+3843215]\n\tGetHandleVerifier [0x00007FF6004C5086+694166]\n\t(No symbol) [0x00007FF6003A0A88]\n\t(No symbol) [0x00007FF60039CA94]\n\t(No symbol) [0x00007FF60039CBC2]\n\t(No symbol) [0x00007FF60038CC83]\n\tBaseThreadInitThunk [0x00007FFF5BBD7344+20]\n\tRtlUserThreadStart [0x00007FFF5CFA26B1+33]\n"
     ]
    }
   ],
   "source": [
    "#가게 별점 가져오기\n",
    "#오류가 발생하는 이유는 다른 iframe 창의 내용을 접근하려고 하기 때문\n",
    "driver.find_element(By.CSS_SELECTOR,'span.PXMot LXIwF')"
   ]
  },
  {
   "cell_type": "code",
   "execution_count": 36,
   "id": "06368cab",
   "metadata": {},
   "outputs": [],
   "source": [
    "#이전 프레임으로 전환한 후 새롭게 나타난 프레임으로 다시 변환\n",
    "driver.switch_to.default_content()"
   ]
  },
  {
   "cell_type": "code",
   "execution_count": 37,
   "id": "a82cdcc2",
   "metadata": {},
   "outputs": [],
   "source": [
    "driver.switch_to.frame('entryIframe')"
   ]
  },
  {
   "cell_type": "code",
   "execution_count": 45,
   "id": "a512e06a",
   "metadata": {},
   "outputs": [
    {
     "data": {
      "text/plain": [
       "'4.75'"
      ]
     },
     "execution_count": 45,
     "metadata": {},
     "output_type": "execute_result"
    }
   ],
   "source": [
    "rate=driver.find_element(By.CSS_SELECTOR,'span.PXMot.LXIwF')\n",
    "rate.text[3:]"
   ]
  },
  {
   "cell_type": "code",
   "execution_count": null,
   "id": "a4b0c823",
   "metadata": {},
   "outputs": [],
   "source": []
  },
  {
   "cell_type": "code",
   "execution_count": null,
   "id": "5e0a885e",
   "metadata": {},
   "outputs": [],
   "source": []
  },
  {
   "cell_type": "code",
   "execution_count": null,
   "id": "58ef351d",
   "metadata": {},
   "outputs": [],
   "source": []
  }
 ],
 "metadata": {
  "kernelspec": {
   "display_name": "Python 3 (ipykernel)",
   "language": "python",
   "name": "python3"
  },
  "language_info": {
   "codemirror_mode": {
    "name": "ipython",
    "version": 3
   },
   "file_extension": ".py",
   "mimetype": "text/x-python",
   "name": "python",
   "nbconvert_exporter": "python",
   "pygments_lexer": "ipython3",
   "version": "3.11.4"
  }
 },
 "nbformat": 4,
 "nbformat_minor": 5
}
