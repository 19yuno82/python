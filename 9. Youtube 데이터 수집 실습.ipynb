{
 "cells": [
  {
   "cell_type": "markdown",
   "id": "59bc2fd1",
   "metadata": {},
   "source": [
    "# 특정 youtube채널의 영상 데이터 수집\n",
    "- 제목,영상url,조회수"
   ]
  },
  {
   "cell_type": "code",
   "execution_count": 6,
   "id": "cd6bc9a9",
   "metadata": {},
   "outputs": [],
   "source": [
    "import os\n",
    "import time\n",
    "from tqdm import tqdm as tq\n",
    "from selenium import webdriver as wb\n",
    "from selenium.webdriver.common.by import By\n",
    "from selenium.webdriver.common.keys import Keys"
   ]
  },
  {
   "cell_type": "code",
   "execution_count": 2,
   "id": "6fec3481",
   "metadata": {},
   "outputs": [],
   "source": [
    "yt_url = 'https://www.youtube.com/@Hometown-VideoRoom/videos'"
   ]
  },
  {
   "cell_type": "code",
   "execution_count": 47,
   "id": "d68f165a",
   "metadata": {},
   "outputs": [],
   "source": [
    "driver = wb.Chrome()\n",
    "driver.get(yt_url)"
   ]
  },
  {
   "cell_type": "code",
   "execution_count": 48,
   "id": "d9654266",
   "metadata": {},
   "outputs": [],
   "source": [
    "#브라우저 창 크기 최대화\n",
    "driver.maximize_window()"
   ]
  },
  {
   "cell_type": "code",
   "execution_count": 51,
   "id": "8cd4f89d",
   "metadata": {},
   "outputs": [
    {
     "name": "stdout",
     "output_type": "stream",
     "text": [
      "2639\n",
      "4939\n",
      "4939\n",
      "6952\n",
      "6952\n",
      "9252\n",
      "9252\n",
      "11265\n",
      "11265\n",
      "13566\n",
      "13566\n",
      "15578\n",
      "15578\n",
      "17879\n",
      "17879\n",
      "19892\n",
      "19892\n",
      "22192\n",
      "22192\n",
      "24205\n",
      "24205\n",
      "26505\n",
      "26505\n",
      "28518\n",
      "28518\n",
      "30818\n",
      "30818\n",
      "32831\n",
      "32831\n",
      "35132\n",
      "35132\n",
      "37144\n",
      "37144\n",
      "39445\n",
      "39445\n",
      "41458\n",
      "41458\n",
      "43758\n",
      "43758\n",
      "45136\n",
      "45136\n",
      "45136\n"
     ]
    }
   ],
   "source": [
    "#웹페이지 스크롤 다 내리기\n",
    "lastHeight = driver.execute_script(\"return document.getElementById('content').scrollHeight\")\n",
    "while True :\n",
    "    print(lastHeight)\n",
    "    #1. 웹 페이지 스크롤 내리기\n",
    "    body=driver.find_element(By.TAG_NAME,'body')\n",
    "    body.send_keys(Keys.END)\n",
    "    time.sleep(1)\n",
    "\n",
    "    #2.웹 페이지 전체 높이 가져오기\n",
    "    currentHeight = driver.execute_script(\"return document.getElementById('content').scrollHeight\")\n",
    "    print(currentHeight)\n",
    "    #3. 페이지 높이에 변화가 없다면 반복문 빠져나오기\n",
    "    if currentHeight == lastHeight :\n",
    "        break;\n",
    "    #4. 이전 페이지 높이를 새로운 페이지 높이값으로 업데이트\n",
    "    lastHeight = currentHeight"
   ]
  },
  {
   "cell_type": "code",
   "execution_count": 29,
   "id": "e770efe3",
   "metadata": {},
   "outputs": [],
   "source": [
    "# #스크롤 10번 내리기\n",
    "# for i in range(10) :\n",
    "#     body=driver.find_element(By.TAG_NAME, 'body')\n",
    "#     body.send_keys(Keys.END)\n",
    "#     time.sleep(1)"
   ]
  },
  {
   "cell_type": "code",
   "execution_count": 43,
   "id": "0c3e658e",
   "metadata": {},
   "outputs": [
    {
     "name": "stderr",
     "output_type": "stream",
     "text": [
      "100%|████████████████████████████████████████████████████████████████████████████████| 390/390 [00:13<00:00, 28.32it/s]\n"
     ]
    }
   ],
   "source": [
    "#영상제목,,영상url,조회수 수집\n",
    "titles = []\n",
    "video_urls= []\n",
    "views = []\n",
    "videos = driver.find_elements(By.CSS_SELECTOR,'#video-title-link')\n",
    "for i in tq(videos) :\n",
    "    titles.append(i.get_attribute('title'))\n",
    "    video_urls.append(i.get_attribute('href'))\n",
    "    label = i.get_attribute('aria-label')\n",
    "    startIndex=label.rfind('조회수')\n",
    "    endIndex=label.rfind('회')\n",
    "    views.append(label[startIndex:endIndex+1])"
   ]
  },
  {
   "cell_type": "markdown",
   "id": "0b9a5e31",
   "metadata": {},
   "source": [
    "# 특정 youtube영상 페이지의 리뷰 데이터 수집\n",
    "- 수집 후 텍스트 파일로 저장(yt_review.txt)"
   ]
  },
  {
   "cell_type": "code",
   "execution_count": 71,
   "id": "726bd3dc",
   "metadata": {},
   "outputs": [],
   "source": [
    "driver1=wb.Chrome()\n",
    "driver1.get(video_urls[0])"
   ]
  },
  {
   "cell_type": "code",
   "execution_count": 72,
   "id": "fa30bf49",
   "metadata": {},
   "outputs": [],
   "source": [
    "driver1.maximize_window()"
   ]
  },
  {
   "cell_type": "code",
   "execution_count": 73,
   "id": "b6ae1d2c",
   "metadata": {},
   "outputs": [],
   "source": [
    "#스크롤 10번 내리기\n",
    "for i in range(3) :\n",
    "    body1=driver1.find_element(By.TAG_NAME, 'body')\n",
    "    body1.send_keys(Keys.END)\n",
    "    time.sleep(1)"
   ]
  },
  {
   "cell_type": "code",
   "execution_count": 75,
   "id": "75ebf291",
   "metadata": {},
   "outputs": [],
   "source": [
    "yt_review=driver1.find_elements(By.ID,'content-text')"
   ]
  },
  {
   "cell_type": "markdown",
   "id": "034f1119",
   "metadata": {},
   "source": [
    "# 텍스트 파일로 저장"
   ]
  },
  {
   "cell_type": "code",
   "execution_count": 77,
   "id": "6a938358",
   "metadata": {},
   "outputs": [],
   "source": [
    "f=open('yt_review.txt','w',encoding='utf-8')\n",
    "\n",
    "for comment in yt_review :\n",
    "    if comment.text == '' :\n",
    "        continue\n",
    "    f.write(comment.text)\n",
    "f.close()"
   ]
  },
  {
   "cell_type": "code",
   "execution_count": null,
   "id": "f291146a",
   "metadata": {},
   "outputs": [],
   "source": []
  },
  {
   "cell_type": "code",
   "execution_count": null,
   "id": "e275e4b4",
   "metadata": {},
   "outputs": [],
   "source": []
  },
  {
   "cell_type": "code",
   "execution_count": null,
   "id": "1ac2963b",
   "metadata": {},
   "outputs": [],
   "source": []
  },
  {
   "cell_type": "code",
   "execution_count": null,
   "id": "a7dbf6f1",
   "metadata": {},
   "outputs": [],
   "source": []
  }
 ],
 "metadata": {
  "kernelspec": {
   "display_name": "Python 3 (ipykernel)",
   "language": "python",
   "name": "python3"
  },
  "language_info": {
   "codemirror_mode": {
    "name": "ipython",
    "version": 3
   },
   "file_extension": ".py",
   "mimetype": "text/x-python",
   "name": "python",
   "nbconvert_exporter": "python",
   "pygments_lexer": "ipython3",
   "version": "3.11.4"
  }
 },
 "nbformat": 4,
 "nbformat_minor": 5
}
