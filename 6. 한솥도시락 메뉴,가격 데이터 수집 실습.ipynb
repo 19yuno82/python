{
 "cells": [
  {
   "cell_type": "code",
   "execution_count": 29,
   "id": "22783698",
   "metadata": {},
   "outputs": [],
   "source": [
    "from selenium import webdriver as wb\n",
    "#html 요소에 접근하기 위한 방법을 제공하는 라이브러리\n",
    "from selenium.webdriver.common.by import By\n",
    "#키보드 값을 제공하는 라이브러리\n",
    "from selenium.webdriver.common.keys import Keys\n",
    "#실행 시간을 딜레이주는 라이브러리\n",
    "import time"
   ]
  },
  {
   "cell_type": "code",
   "execution_count": 9,
   "id": "450e2077",
   "metadata": {},
   "outputs": [],
   "source": [
    "hansot_url = 'https://www.hsd.co.kr/menu/menu_list'"
   ]
  },
  {
   "cell_type": "code",
   "execution_count": 26,
   "id": "30d4b405",
   "metadata": {},
   "outputs": [],
   "source": [
    "driver = wb.Chrome()\n",
    "driver.get(hansot_url)"
   ]
  },
  {
   "cell_type": "code",
   "execution_count": 31,
   "id": "cf58ed7c",
   "metadata": {},
   "outputs": [
    {
     "name": "stdout",
     "output_type": "stream",
     "text": [
      "더보기 클릭 완료\n"
     ]
    }
   ],
   "source": [
    "#더보기 버튼 클릭\n",
    "#try~except : 예외 처리 구문\n",
    "#try : 실행할 로직 구현\n",
    "#except : 오류가 발생했을 때 실행할 로직 구현\n",
    "try :\n",
    "    for i in range(4) :\n",
    "        driver.find_element(By.CLASS_NAME, value='c_05').click()\n",
    "        time.sleep(1) #1초 기다렸다가 실행해\n",
    "except :\n",
    "    print('더보기 클릭 완료')"
   ]
  },
  {
   "cell_type": "markdown",
   "id": "e8ace409",
   "metadata": {},
   "source": [
    "## 도시락 메뉴, 가격 데이터 수집 후 출력하기\n",
    "- 출력 형태) <br> 도시락 메뉴: ~~~ <br> 가격: ~~~"
   ]
  },
  {
   "cell_type": "code",
   "execution_count": 55,
   "id": "d75335b8",
   "metadata": {},
   "outputs": [],
   "source": [
    "from bs4 import BeautifulSoup as bs\n",
    "import pandas as pd"
   ]
  },
  {
   "cell_type": "code",
   "execution_count": 49,
   "id": "af548d4d",
   "metadata": {},
   "outputs": [
    {
     "data": {
      "text/plain": [
       "(96, 96)"
      ]
     },
     "execution_count": 49,
     "metadata": {},
     "output_type": "execute_result"
    }
   ],
   "source": [
    "html=bs(driver.page_source,'lxml')\n",
    "menu_html=html.select('h4.h.fz_03')\n",
    "price_html=html.select('div.item-price>strong')\n",
    "# display(price_html)\n",
    "len(menu_html),len(price_html)"
   ]
  },
  {
   "cell_type": "code",
   "execution_count": 53,
   "id": "aae50685",
   "metadata": {},
   "outputs": [],
   "source": [
    "menuList=[]\n",
    "priceList=[]\n",
    "for i in range(len(menu_html)):\n",
    "    menuList.append(menu_html[i].text)\n",
    "    priceList.append(price_html[i].text)"
   ]
  },
  {
   "cell_type": "code",
   "execution_count": 68,
   "id": "1c3c440e",
   "metadata": {},
   "outputs": [],
   "source": [
    "data={\n",
    "    '도시락메뉴' : menuList,\n",
    "    '가격': priceList\n",
    "}\n",
    "hansotMenu = pd.DataFrame(data)"
   ]
  },
  {
   "cell_type": "code",
   "execution_count": 69,
   "id": "ab3988e4",
   "metadata": {},
   "outputs": [
    {
     "data": {
      "text/html": [
       "<div>\n",
       "<style scoped>\n",
       "    .dataframe tbody tr th:only-of-type {\n",
       "        vertical-align: middle;\n",
       "    }\n",
       "\n",
       "    .dataframe tbody tr th {\n",
       "        vertical-align: top;\n",
       "    }\n",
       "\n",
       "    .dataframe thead th {\n",
       "        text-align: right;\n",
       "    }\n",
       "</style>\n",
       "<table border=\"1\" class=\"dataframe\">\n",
       "  <thead>\n",
       "    <tr style=\"text-align: right;\">\n",
       "      <th></th>\n",
       "      <th>0</th>\n",
       "      <th>1</th>\n",
       "      <th>2</th>\n",
       "      <th>3</th>\n",
       "      <th>4</th>\n",
       "      <th>5</th>\n",
       "      <th>6</th>\n",
       "      <th>7</th>\n",
       "      <th>8</th>\n",
       "      <th>9</th>\n",
       "      <th>...</th>\n",
       "      <th>86</th>\n",
       "      <th>87</th>\n",
       "      <th>88</th>\n",
       "      <th>89</th>\n",
       "      <th>90</th>\n",
       "      <th>91</th>\n",
       "      <th>92</th>\n",
       "      <th>93</th>\n",
       "      <th>94</th>\n",
       "      <th>95</th>\n",
       "    </tr>\n",
       "  </thead>\n",
       "  <tbody>\n",
       "    <tr>\n",
       "      <th>도시락메뉴</th>\n",
       "      <td>유린기</td>\n",
       "      <td>송정식 떡갈비</td>\n",
       "      <td>크룽지+페루 찬차마요 드립백 커피</td>\n",
       "      <td>크룽지</td>\n",
       "      <td>빅새치마요</td>\n",
       "      <td>새치마요</td>\n",
       "      <td>해바라기</td>\n",
       "      <td>매화</td>\n",
       "      <td>진달래</td>\n",
       "      <td>개나리</td>\n",
       "      <td>...</td>\n",
       "      <td>오징어젓갈</td>\n",
       "      <td>한솥 두부강된장소스</td>\n",
       "      <td>한솥 감초볶음고추장소스</td>\n",
       "      <td>볶음김치</td>\n",
       "      <td>김치</td>\n",
       "      <td>무말랭이 무침</td>\n",
       "      <td>한솥밥</td>\n",
       "      <td>현미밥</td>\n",
       "      <td>리얼 티라미수 찰떡</td>\n",
       "      <td>리얼꿀 미니호떡</td>\n",
       "    </tr>\n",
       "    <tr>\n",
       "      <th>가격</th>\n",
       "      <td>6,600</td>\n",
       "      <td>6,900</td>\n",
       "      <td>2,900</td>\n",
       "      <td>1,900</td>\n",
       "      <td>4,600</td>\n",
       "      <td>4,000</td>\n",
       "      <td>10,000</td>\n",
       "      <td>10,500</td>\n",
       "      <td>7,800</td>\n",
       "      <td>8,500</td>\n",
       "      <td>...</td>\n",
       "      <td>600</td>\n",
       "      <td>1,800</td>\n",
       "      <td>500</td>\n",
       "      <td>500</td>\n",
       "      <td>400</td>\n",
       "      <td>500</td>\n",
       "      <td>1,000</td>\n",
       "      <td>1,700</td>\n",
       "      <td>1,700</td>\n",
       "      <td>2,200</td>\n",
       "    </tr>\n",
       "  </tbody>\n",
       "</table>\n",
       "<p>2 rows × 96 columns</p>\n",
       "</div>"
      ],
      "text/plain": [
       "          0        1                   2      3      4      5       6   \\\n",
       "도시락메뉴    유린기  송정식 떡갈비  크룽지+페루 찬차마요 드립백 커피    크룽지  빅새치마요   새치마요    해바라기   \n",
       "가격     6,600    6,900               2,900  1,900  4,600  4,000  10,000   \n",
       "\n",
       "           7      8      9   ...     86          87            88    89   90  \\\n",
       "도시락메뉴      매화    진달래    개나리  ...  오징어젓갈  한솥 두부강된장소스  한솥 감초볶음고추장소스  볶음김치   김치   \n",
       "가격     10,500  7,800  8,500  ...    600       1,800           500   500  400   \n",
       "\n",
       "            91     92     93          94        95  \n",
       "도시락메뉴  무말랭이 무침    한솥밥    현미밥  리얼 티라미수 찰떡  리얼꿀 미니호떡  \n",
       "가격         500  1,000  1,700       1,700     2,200  \n",
       "\n",
       "[2 rows x 96 columns]"
      ]
     },
     "metadata": {},
     "output_type": "display_data"
    }
   ],
   "source": [
    "display(hansotMenu.T)"
   ]
  },
  {
   "cell_type": "markdown",
   "id": "bddeb50e",
   "metadata": {},
   "source": [
    "## selenium활용 데이터 수집"
   ]
  },
  {
   "cell_type": "code",
   "execution_count": 77,
   "id": "04f81498",
   "metadata": {},
   "outputs": [
    {
     "data": {
      "text/plain": [
       "'유린기'"
      ]
     },
     "execution_count": 77,
     "metadata": {},
     "output_type": "execute_result"
    }
   ],
   "source": [
    "names=driver.find_elements(By.CSS_SELECTOR, value='h4.h.fz_03')\n",
    "names[0].text"
   ]
  },
  {
   "cell_type": "code",
   "execution_count": 79,
   "id": "6c7c4e43",
   "metadata": {},
   "outputs": [
    {
     "data": {
      "text/plain": [
       "'6,600'"
      ]
     },
     "execution_count": 79,
     "metadata": {},
     "output_type": "execute_result"
    }
   ],
   "source": [
    "prices=driver.find_elements(By.CSS_SELECTOR,value='div.item-price>strong')\n",
    "prices[0].text"
   ]
  },
  {
   "cell_type": "code",
   "execution_count": 81,
   "id": "2163e209",
   "metadata": {},
   "outputs": [
    {
     "data": {
      "text/plain": [
       "'h fz_03'"
      ]
     },
     "execution_count": 81,
     "metadata": {},
     "output_type": "execute_result"
    }
   ],
   "source": [
    "#selenium활용 html요소 속성접근하기\n",
    "names[0].get_attribute('class')"
   ]
  },
  {
   "cell_type": "code",
   "execution_count": null,
   "id": "e09c398a",
   "metadata": {},
   "outputs": [],
   "source": []
  },
  {
   "cell_type": "code",
   "execution_count": null,
   "id": "08d1d79f",
   "metadata": {},
   "outputs": [],
   "source": []
  },
  {
   "cell_type": "code",
   "execution_count": null,
   "id": "8afb4ea8",
   "metadata": {},
   "outputs": [],
   "source": []
  }
 ],
 "metadata": {
  "kernelspec": {
   "display_name": "Python 3 (ipykernel)",
   "language": "python",
   "name": "python3"
  },
  "language_info": {
   "codemirror_mode": {
    "name": "ipython",
    "version": 3
   },
   "file_extension": ".py",
   "mimetype": "text/x-python",
   "name": "python",
   "nbconvert_exporter": "python",
   "pygments_lexer": "ipython3",
   "version": "3.11.4"
  }
 },
 "nbformat": 4,
 "nbformat_minor": 5
}
